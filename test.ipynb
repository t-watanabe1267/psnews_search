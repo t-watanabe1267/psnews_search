{
 "cells": [
  {
   "cell_type": "code",
   "execution_count": 1,
   "metadata": {},
   "outputs": [
    {
     "name": "stdout",
     "output_type": "stream",
     "text": [
      "hellow\n"
     ]
    }
   ],
   "source": [
    "print(\"hellow\")"
   ]
  },
  {
   "cell_type": "code",
   "execution_count": null,
   "metadata": {},
   "outputs": [],
   "source": [
    "print(\"こんにちは\")\n",
    "print(\"こんばんは\")\n",
    "print(\"さようなら\")"
   ]
  }
 ],
 "metadata": {
  "interpreter": {
   "hash": "b4f676d150eab883412369d8562b7cf94639900e3b1a5621350e9c9d8d7e259a"
  },
  "kernelspec": {
   "display_name": "Python 3.9.12 ('python_keiba')",
   "language": "python",
   "name": "python3"
  },
  "language_info": {
   "codemirror_mode": {
    "name": "ipython",
    "version": 3
   },
   "file_extension": ".py",
   "mimetype": "text/x-python",
   "name": "python",
   "nbconvert_exporter": "python",
   "pygments_lexer": "ipython3",
   "version": "3.10.11"
  },
  "orig_nbformat": 4
 },
 "nbformat": 4,
 "nbformat_minor": 2
}
